{
 "cells": [
  {
   "cell_type": "code",
   "execution_count": 1,
   "metadata": {},
   "outputs": [],
   "source": [
    "import numpy as np"
   ]
  },
  {
   "cell_type": "code",
   "execution_count": 2,
   "metadata": {},
   "outputs": [],
   "source": [
    "height = [100,120,113,124,150,146,170,158,139] #this is list called height\n",
    "weight = [45,40,52,47,58,55,80,65,51] # this is list called weight"
   ]
  },
  {
   "cell_type": "code",
   "execution_count": 3,
   "metadata": {},
   "outputs": [
    {
     "name": "stdout",
     "output_type": "stream",
     "text": [
      "it just append the weight list at the end but not adding corresponding the element\n",
      "[100, 120, 113, 124, 150, 146, 170, 158, 139, 45, 40, 52, 47, 58, 55, 80, 65, 51]\n"
     ]
    }
   ],
   "source": [
    "x =height+weight # it just append the weight list at the end but not adding corresponding the element\n",
    "print(\"it just append the weight list at the end but not adding corresponding the element\")\n",
    "print(x)"
   ]
  },
  {
   "cell_type": "code",
   "execution_count": 4,
   "metadata": {},
   "outputs": [
    {
     "data": {
      "text/plain": [
       "list"
      ]
     },
     "execution_count": 4,
     "metadata": {},
     "output_type": "execute_result"
    }
   ],
   "source": [
    "type(height)\n",
    "type(weight)"
   ]
  },
  {
   "cell_type": "code",
   "execution_count": 5,
   "metadata": {},
   "outputs": [
    {
     "data": {
      "text/plain": [
       "[139, 146, 113]"
      ]
     },
     "execution_count": 5,
     "metadata": {},
     "output_type": "execute_result"
    }
   ],
   "source": [
    "height[::-3] # -3 denotes the stepsize, minus denotes from back. it takes every third element from end"
   ]
  },
  {
   "cell_type": "code",
   "execution_count": 6,
   "metadata": {},
   "outputs": [
    {
     "data": {
      "text/plain": [
       "[45, 40, 52, 47, 58, 55, 80, 65, 51]"
      ]
     },
     "execution_count": 6,
     "metadata": {},
     "output_type": "execute_result"
    }
   ],
   "source": [
    "weight"
   ]
  },
  {
   "cell_type": "code",
   "execution_count": 7,
   "metadata": {},
   "outputs": [
    {
     "ename": "TypeError",
     "evalue": "unsupported operand type(s) for ** or pow(): 'list' and 'int'",
     "output_type": "error",
     "traceback": [
      "\u001b[1;31m---------------------------------------------------------------------------\u001b[0m",
      "\u001b[1;31mTypeError\u001b[0m                                 Traceback (most recent call last)",
      "\u001b[1;32m<ipython-input-7-5e140da8afab>\u001b[0m in \u001b[0;36m<module>\u001b[1;34m()\u001b[0m\n\u001b[1;32m----> 1\u001b[1;33m \u001b[0mbmi\u001b[0m \u001b[1;33m=\u001b[0m \u001b[0mheight\u001b[0m\u001b[1;33m/\u001b[0m\u001b[0mweight\u001b[0m\u001b[1;33m**\u001b[0m\u001b[1;36m2\u001b[0m  \u001b[1;31m#throws an error because mathmatical operation is not possible in list, that's why we need numpy\u001b[0m\u001b[1;33m\u001b[0m\u001b[0m\n\u001b[0m",
      "\u001b[1;31mTypeError\u001b[0m: unsupported operand type(s) for ** or pow(): 'list' and 'int'"
     ]
    }
   ],
   "source": [
    "bmi = height/weight**2  #throws an error because mathmatical operation is not possible in list, that's why we need numpy"
   ]
  },
  {
   "cell_type": "code",
   "execution_count": 8,
   "metadata": {},
   "outputs": [
    {
     "ename": "TypeError",
     "evalue": "can only concatenate list (not \"int\") to list",
     "output_type": "error",
     "traceback": [
      "\u001b[1;31m---------------------------------------------------------------------------\u001b[0m",
      "\u001b[1;31mTypeError\u001b[0m                                 Traceback (most recent call last)",
      "\u001b[1;32m<ipython-input-8-351ce9011cc2>\u001b[0m in \u001b[0;36m<module>\u001b[1;34m()\u001b[0m\n\u001b[1;32m----> 1\u001b[1;33m \u001b[0mheight\u001b[0m\u001b[1;33m+\u001b[0m\u001b[1;36m2\u001b[0m \u001b[1;31m#trying to add 2 to every element in the list, but throws an error\u001b[0m\u001b[1;33m\u001b[0m\u001b[0m\n\u001b[0m",
      "\u001b[1;31mTypeError\u001b[0m: can only concatenate list (not \"int\") to list"
     ]
    }
   ],
   "source": [
    "height+2 #trying to add 2 to every element in the list, but throws an error"
   ]
  },
  {
   "cell_type": "code",
   "execution_count": 9,
   "metadata": {
    "scrolled": true
   },
   "outputs": [
    {
     "ename": "TypeError",
     "evalue": "can only concatenate list (not \"int\") to list",
     "output_type": "error",
     "traceback": [
      "\u001b[1;31m---------------------------------------------------------------------------\u001b[0m",
      "\u001b[1;31mTypeError\u001b[0m                                 Traceback (most recent call last)",
      "\u001b[1;32m<ipython-input-9-c60701ec8eae>\u001b[0m in \u001b[0;36m<module>\u001b[1;34m()\u001b[0m\n\u001b[1;32m----> 1\u001b[1;33m \u001b[0mheight\u001b[0m\u001b[1;33m=\u001b[0m \u001b[0mheight\u001b[0m\u001b[1;33m+\u001b[0m\u001b[1;36m2\u001b[0m \u001b[1;31m# trying to add 2 to list numbers, but throws an error\u001b[0m\u001b[1;33m\u001b[0m\u001b[0m\n\u001b[0m\u001b[0;32m      2\u001b[0m \u001b[0mprint\u001b[0m\u001b[1;33m(\u001b[0m\u001b[0mheight\u001b[0m\u001b[1;33m)\u001b[0m\u001b[1;33m\u001b[0m\u001b[0m\n",
      "\u001b[1;31mTypeError\u001b[0m: can only concatenate list (not \"int\") to list"
     ]
    }
   ],
   "source": [
    "height= height+2 # trying to add 2 to list numbers, but throws an error\n",
    "print(height)"
   ]
  },
  {
   "cell_type": "code",
   "execution_count": 10,
   "metadata": {},
   "outputs": [
    {
     "name": "stdout",
     "output_type": "stream",
     "text": [
      "102\n",
      "122\n",
      "115\n",
      "126\n",
      "152\n",
      "148\n",
      "172\n",
      "160\n",
      "141\n"
     ]
    },
    {
     "data": {
      "text/plain": [
       "list"
      ]
     },
     "execution_count": 10,
     "metadata": {},
     "output_type": "execute_result"
    }
   ],
   "source": [
    "for i in range(len(height)): # to add we have do something like this\n",
    "\n",
    "    height[i] = height[i]+2 # this is how we have to add the number to list by iterating through each element \n",
    "    print(height[i])"
   ]
  },
  {
   "cell_type": "markdown",
   "metadata": {},
   "source": [
    "Now we saw limitations of list, we can overcome these limitations with numpy."
   ]
  },
  {
   "cell_type": "code",
   "execution_count": 11,
   "metadata": {},
   "outputs": [
    {
     "name": "stdout",
     "output_type": "stream",
     "text": [
      "[4.50000000e+01 1.00000000e+01 5.77777778e+00 2.93750000e+00\n",
      " 1.84948980e-02 6.79012346e-01 3.95061728e-02 6.50000000e-01\n",
      " 8.16000000e-02]\n"
     ]
    }
   ],
   "source": [
    "np_height = np.array([1,2,3,4,56,9,45,10,25])\n",
    "np_weight = np.array(weight)\n",
    "bmi = np_weight/np_height**2\n",
    "print(bmi)"
   ]
  },
  {
   "cell_type": "markdown",
   "metadata": {},
   "source": [
    "If you see above example, we could easily do arithmetic operation on numpy"
   ]
  },
  {
   "cell_type": "code",
   "execution_count": 12,
   "metadata": {},
   "outputs": [],
   "source": [
    "np_height=np_height*2 # after converting it to numpy array from list we can do mathematical operation"
   ]
  },
  {
   "cell_type": "code",
   "execution_count": 13,
   "metadata": {},
   "outputs": [
    {
     "name": "stdout",
     "output_type": "stream",
     "text": [
      "[  2   4   6   8 112  18  90  20  50]\n"
     ]
    }
   ],
   "source": [
    "print(np_height)"
   ]
  },
  {
   "cell_type": "code",
   "execution_count": 14,
   "metadata": {},
   "outputs": [
    {
     "data": {
      "text/plain": [
       "(9,)"
      ]
     },
     "execution_count": 14,
     "metadata": {},
     "output_type": "execute_result"
    }
   ],
   "source": [
    "np_height.shape # prints the shape of array"
   ]
  },
  {
   "cell_type": "code",
   "execution_count": 15,
   "metadata": {},
   "outputs": [],
   "source": [
    "np_a = np.array([1,1,2,5,4,4,8,5])"
   ]
  },
  {
   "cell_type": "code",
   "execution_count": 16,
   "metadata": {},
   "outputs": [
    {
     "data": {
      "text/plain": [
       "(8,)"
      ]
     },
     "execution_count": 16,
     "metadata": {},
     "output_type": "execute_result"
    }
   ],
   "source": [
    "np_a.shape"
   ]
  },
  {
   "cell_type": "code",
   "execution_count": 17,
   "metadata": {},
   "outputs": [],
   "source": [
    "np_a = np_a.reshape(2,4)\n",
    "# To reshape the existing numpy array from np_a, we have 8 elements in np_a, so we can have, (1,8) or (8,1),(2,4) or (4,2)"
   ]
  },
  {
   "cell_type": "code",
   "execution_count": 18,
   "metadata": {},
   "outputs": [
    {
     "data": {
      "text/plain": [
       "(2, 4)"
      ]
     },
     "execution_count": 18,
     "metadata": {},
     "output_type": "execute_result"
    }
   ],
   "source": [
    "np_a.shape"
   ]
  },
  {
   "cell_type": "code",
   "execution_count": 19,
   "metadata": {
    "scrolled": true
   },
   "outputs": [
    {
     "name": "stdout",
     "output_type": "stream",
     "text": [
      "[[1 1 2 5]\n",
      " [4 4 8 5]]\n"
     ]
    }
   ],
   "source": [
    "print(np_a)"
   ]
  },
  {
   "cell_type": "code",
   "execution_count": 20,
   "metadata": {},
   "outputs": [
    {
     "ename": "ValueError",
     "evalue": "cannot reshape array of size 8 into shape (3,2)",
     "output_type": "error",
     "traceback": [
      "\u001b[1;31m---------------------------------------------------------------------------\u001b[0m",
      "\u001b[1;31mValueError\u001b[0m                                Traceback (most recent call last)",
      "\u001b[1;32m<ipython-input-20-43f18ecac3d3>\u001b[0m in \u001b[0;36m<module>\u001b[1;34m()\u001b[0m\n\u001b[1;32m----> 1\u001b[1;33m \u001b[0mnp_b\u001b[0m \u001b[1;33m=\u001b[0m \u001b[0mnp_a\u001b[0m\u001b[1;33m.\u001b[0m\u001b[0mreshape\u001b[0m\u001b[1;33m(\u001b[0m\u001b[1;36m3\u001b[0m\u001b[1;33m,\u001b[0m\u001b[1;36m2\u001b[0m\u001b[1;33m)\u001b[0m \u001b[1;31m# we will get an ValueError\u001b[0m\u001b[1;33m\u001b[0m\u001b[0m\n\u001b[0m",
      "\u001b[1;31mValueError\u001b[0m: cannot reshape array of size 8 into shape (3,2)"
     ]
    }
   ],
   "source": [
    "np_b = np_a.reshape(3,2) # we will get an ValueError"
   ]
  },
  {
   "cell_type": "markdown",
   "metadata": {},
   "source": [
    "Above example gives a value error because we have 8 elements is an array and we trying to reshape into 3*2 that would accomodate only 6 element, so all 8 element of original size can not suffice in 3*2"
   ]
  },
  {
   "cell_type": "code",
   "execution_count": 20,
   "metadata": {},
   "outputs": [
    {
     "data": {
      "text/plain": [
       "array([(1, 2), list([3, 4, 5]), (6, 7, 8)], dtype=object)"
      ]
     },
     "execution_count": 20,
     "metadata": {},
     "output_type": "execute_result"
    }
   ],
   "source": [
    "a = [(1,2), [3,4,(5)], (6,7,8)] # b[1][2] to accesss the list inside array\n",
    "b = np.asarray(a)\n",
    "b"
   ]
  },
  {
   "cell_type": "code",
   "execution_count": 21,
   "metadata": {},
   "outputs": [
    {
     "data": {
      "text/plain": [
       "5"
      ]
     },
     "execution_count": 21,
     "metadata": {},
     "output_type": "execute_result"
    }
   ],
   "source": [
    "b[1][2] #indexing to get the specific number"
   ]
  },
  {
   "cell_type": "markdown",
   "metadata": {},
   "source": [
    "This is called slicing or indexing. You can refer list notebook post under my Python basics"
   ]
  },
  {
   "cell_type": "code",
   "execution_count": 22,
   "metadata": {},
   "outputs": [
    {
     "name": "stdout",
     "output_type": "stream",
     "text": [
      "[1 4 7]\n",
      "[1 4 7]\n"
     ]
    },
    {
     "data": {
      "text/plain": [
       "array([1, 4, 7])"
      ]
     },
     "execution_count": 22,
     "metadata": {},
     "output_type": "execute_result"
    }
   ],
   "source": [
    "x = np.array([1,2,3,4,5,6,7,8,9])\n",
    "print(x[0:8:3])\n",
    "print(x[0::3]) # syntax x(startindex:lastindex:stepsize)\n",
    "# x[0::3] == x[0:8:3] == \n",
    "x[0:-1:3]#, all three will give same value, -1 indicates the last"
   ]
  },
  {
   "cell_type": "markdown",
   "metadata": {},
   "source": [
    "<h4>Let's check how we can have palindrome check with python indexing/Slicing concept.</h4>"
   ]
  },
  {
   "cell_type": "code",
   "execution_count": 50,
   "metadata": {},
   "outputs": [
    {
     "data": {
      "text/plain": [
       "True"
      ]
     },
     "execution_count": 50,
     "metadata": {},
     "output_type": "execute_result"
    }
   ],
   "source": [
    "def palindrome(s):\n",
    "    return s == s[::-1]\n",
    "lst = 'helleh'\n",
    "palindrome(lst)"
   ]
  },
  {
   "cell_type": "code",
   "execution_count": 49,
   "metadata": {},
   "outputs": [
    {
     "data": {
      "text/plain": [
       "False"
      ]
     },
     "execution_count": 49,
     "metadata": {},
     "output_type": "execute_result"
    }
   ],
   "source": [
    "lst1 = 'Numpy'\n",
    "palindrome(lst1)"
   ]
  },
  {
   "cell_type": "markdown",
   "metadata": {},
   "source": [
    "# Below are some code examples from hackerrank, I have mentioned the url's for question. Try to solve them with concept of list, if you face any issues refer the solution below"
   ]
  },
  {
   "cell_type": "markdown",
   "metadata": {},
   "source": [
    "This is one of hackerrank simple problem, link for question - https://www.hackerrank.com/challenges/apple-and-orange/problem"
   ]
  },
  {
   "cell_type": "code",
   "execution_count": 51,
   "metadata": {},
   "outputs": [
    {
     "name": "stdout",
     "output_type": "stream",
     "text": [
      "1 1\n"
     ]
    }
   ],
   "source": [
    "def countApplesAndOranges(s, t, a, b, apples, oranges):\n",
    "    apples_count = 0\n",
    "    oranges_count = 0\n",
    "    for i in range(len(apples)):\n",
    "        apples[i] +=a\n",
    "        count = 1 if (apples[i] <= t and apples[i] >= s) else 0\n",
    "        apples_count+=count\n",
    "    for i in range(len(oranges)):\n",
    "        oranges[i]+=b\n",
    "        count = 1 if (oranges[i]<=t and oranges[i]>=s) else 0\n",
    "        oranges_count+=count\n",
    "    return oranges_count, apples_count\n",
    "s = 7\n",
    "t = 11\n",
    "a = 5\n",
    "b = 15\n",
    "apples = [-2 ,2 ,1]\n",
    "oranges = [5, -6]\n",
    "x,y = countApplesAndOranges(s, t, a, b, apples, oranges)\n",
    "print(x,y)\n"
   ]
  },
  {
   "cell_type": "markdown",
   "metadata": {},
   "source": [
    "This is again one of hackerrank simple problem, link for question - https://www.hackerrank.com/challenges/between-two-sets/problem"
   ]
  },
  {
   "cell_type": "code",
   "execution_count": 26,
   "metadata": {},
   "outputs": [
    {
     "name": "stdout",
     "output_type": "stream",
     "text": [
      "{1: True, 2: True, 3: False, 4: True, 5: False, 6: False, 7: False, 8: True, 9: False, 10: False, 11: False, 12: False, 13: False, 14: False, 15: False, 16: True}\n",
      "[1, 2, 4, 8, 16]\n",
      "3\n"
     ]
    }
   ],
   "source": [
    "\n",
    "def getTotalX(a, b):\n",
    "    factors = []\n",
    "    integers = dict()\n",
    "    numbers = dict()\n",
    "    for i in range(1,b[0]+1):\n",
    "        integers[i] = True\n",
    "        for j in range(0,len(b)):\n",
    "            if(integers[i]==False):\n",
    "                break\n",
    "            else:\n",
    "                if(b[j]%i==0):\n",
    "                    integers[i] = True\n",
    "                else:\n",
    "                    integers[i] = False\n",
    "    print(integers)\n",
    "    result = dict((k, v) for k, v in integers.items() if v == True).keys()\n",
    "    lst_result = list(result)\n",
    "    print(lst_result)\n",
    "    for i in range(0,len(lst_result)):\n",
    "        numbers[i] = True\n",
    "        for j in range(0,len(a)):\n",
    "            if(numbers[i]==False):\n",
    "                break\n",
    "            else:\n",
    "                if(lst_result[i]%a[j]==0):\n",
    "                    numbers[i] = True\n",
    "                else:\n",
    "                    numbers[i] = False\n",
    "    result1 = dict((k, v) for k, v in numbers.items() if v == True).keys()\n",
    "    lst_result1 = list(result1)\n",
    "    print(len(lst_result1))\n",
    "\n",
    "a = [2,4]\n",
    "b = [16,32,96]\n",
    "getTotalX(a,b)"
   ]
  },
  {
   "cell_type": "code",
   "execution_count": null,
   "metadata": {},
   "outputs": [],
   "source": []
  }
 ],
 "metadata": {
  "kernelspec": {
   "display_name": "Python 3",
   "language": "python",
   "name": "python3"
  },
  "language_info": {
   "codemirror_mode": {
    "name": "ipython",
    "version": 3
   },
   "file_extension": ".py",
   "mimetype": "text/x-python",
   "name": "python",
   "nbconvert_exporter": "python",
   "pygments_lexer": "ipython3",
   "version": "3.6.4"
  }
 },
 "nbformat": 4,
 "nbformat_minor": 2
}
