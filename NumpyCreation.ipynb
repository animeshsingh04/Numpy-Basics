{
 "cells": [
  {
   "cell_type": "markdown",
   "metadata": {},
   "source": [
    "# A Visual Intro to NumPy and Data Representation – Animesh Singh\n",
    "\n",
<<<<<<< HEAD
    "<img style =\"width:200;\" src = \"Images/creation_array_visual.PNG\" alt = \"Numpy Creation\"></img>\n"
=======
    "<img style =\"width:35%;\" src = \"Images/creation_array_visual.PNG\"/>\n"
>>>>>>> ec993f02cd5f2a7896f4d8398ee5bebe3ff052ec
   ]
  },
  {
   "cell_type": "markdown",
   "metadata": {},
   "source": [
    "<br></br>\n",
    "<p> The <a href=\"https://www.numpy.org/\"> NumPy</a> package is the workhorse of data analysis, machine learning, and scientific computing in the python ecosystem. It vastly simplifies manipulating and crunching vectors and matrices. Some of python’s leading package rely on NumPy as a fundamental piece of their infrastructure (examples include scikit-learn, SciPy, pandas, and tensorflow).\n",
    "   \n",
    "In this notebook, we’ll look at some of the main ways to use NumPy and how it can represent different types of data (tables, images, text…etc) before we can serve them to machine learning models. </p>"
   ]
  },
  {
   "cell_type": "code",
   "execution_count": 1,
   "metadata": {},
   "outputs": [],
   "source": [
    "import numpy as np"
   ]
  },
  {
   "cell_type": "markdown",
   "metadata": {},
   "source": [
    "We can create a NumPy array by passing a python list, <strong> Refer list Vs Python jupyter notebook to  understand difference between list and numpy </strong> ,to it and using ` np.array()`. In this case, python creates the array we can see dow."
   ]
  },
  {
   "cell_type": "code",
   "execution_count": 2,
   "metadata": {},
   "outputs": [
    {
     "data": {
      "text/plain": [
       "array([10, 15, 20])"
      ]
     },
     "execution_count": 2,
     "metadata": {},
     "output_type": "execute_result"
    }
   ],
   "source": [
    "np.array([10,15,20])"
   ]
  },
  {
   "cell_type": "markdown",
   "metadata": {},
   "source": [
    "<img style =\"width:200;\" src = \"Images/creation_array_visual.PNG\" alt = \"Numpy Creation\"></img>"
   ]
  },
  {
   "cell_type": "markdown",
   "metadata": {},
   "source": [
    "There are often cases when we want NumPy to initialize the values of the array for us. NumPy provides methods like ones(), zeros(), and random.random() for these cases. We just pass them the number of elements we want it to generate"
   ]
  },
  {
   "cell_type": "code",
   "execution_count": 3,
   "metadata": {},
   "outputs": [
    {
     "name": "stdout",
     "output_type": "stream",
     "text": [
      "Gives array of 2*3 size of random number b/w 0 and 1\n",
      "[[0.23162832 0.59078691 0.98373564]\n",
      " [0.28764266 0.35554346 0.66132635]]\n"
     ]
    }
   ],
   "source": [
    "# gives array of 2*3 size of random number b/w 0 and 1. ((2,3) is nothing but the num of rows and column)\n",
    "print(\"Gives array of 2*3 size of random number b/w 0 and 1\")\n",
    "random_array = np.random.random((2,3))\n",
    "print(random_array)"
   ]
  },
  {
   "cell_type": "markdown",
   "metadata": {},
   "source": [
    "<img  style =\"width:200;\" src = \"Images/creation_of_nump_with_built-in.PNG\" alt = \"Visuals with built-in numpy\"></src>"
   ]
  },
  {
   "cell_type": "code",
   "execution_count": 17,
   "metadata": {},
   "outputs": [
    {
     "name": "stdout",
     "output_type": "stream",
     "text": [
      "Here Multiplying the random array we created above with 10\n",
      "[[3.84451301 2.22551836 6.45042588]\n",
      " [7.23038849 2.90621847 5.92059866]]\n"
     ]
    }
   ],
   "source": [
    "#We can perform arithmetic operation as well\n",
    "random_array1 = random_array*10 \n",
    "print(\"Here Multiplying the random array we created above with 10\")\n",
    "print(random_array1)"
   ]
  },
  {
   "cell_type": "markdown",
   "metadata": {},
   "source": [
    "\n",
    "<img  style =\"width:85%;\" src = \"Images/multidim_with_custom.PNG\" alt = \"Visuals with built-in numpy\"/>"
   ]
  },
  {
   "cell_type": "code",
   "execution_count": 22,
   "metadata": {},
   "outputs": [
    {
     "name": "stdout",
     "output_type": "stream",
     "text": [
      "Creates the numpy array of 2,2 size with element 1\n",
      "[[1. 1.]\n",
      " [1. 1.]]\n"
     ]
    }
   ],
   "source": [
    "print(\"Creates the numpy array of 2,2 size with element 1\")\n",
    "np_zeroes = np.ones((2,2)) # created the numpy array of 2*2 size with element 1\n",
    "print(np_zeroes)"
   ]
  },
  {
   "cell_type": "markdown",
   "metadata": {},
   "source": [
    "<h3> Visual's of 3 dimension array </h3>\n",
    "<img  style =\"width:35%;\" src = \"Images/three_dimension_numpy_array.PNG\" alt = \"3-D numpy visual's\"></img>"
   ]
  },
  {
   "cell_type": "code",
   "execution_count": 37,
   "metadata": {},
   "outputs": [
    {
     "name": "stdout",
     "output_type": "stream",
     "text": [
      "[[[0. 0. 0. 0. 0. 0.]\n",
      "  [0. 0. 0. 0. 0. 0.]\n",
      "  [0. 0. 0. 0. 0. 0.]\n",
      "  [0. 0. 0. 0. 0. 0.]]\n",
      "\n",
      " [[0. 0. 0. 0. 0. 0.]\n",
      "  [0. 0. 0. 0. 0. 0.]\n",
      "  [0. 0. 0. 0. 0. 0.]\n",
      "  [0. 0. 0. 0. 0. 0.]]\n",
      "\n",
      " [[0. 0. 0. 0. 0. 0.]\n",
      "  [0. 0. 0. 0. 0. 0.]\n",
      "  [0. 0. 0. 0. 0. 0.]\n",
      "  [0. 0. 0. 0. 0. 0.]]]\n"
     ]
    }
   ],
   "source": [
    "#creates numpy 3*4*6 array of 0's. Multidimensional Array, \n",
    "# where 3 is number of rows, 4 is number of columns and 6 is the 3rd dimension\n",
    "np_zero =np.zeros((3,4,6))   \n",
    "print(np_zero)"
   ]
  },
  {
   "cell_type": "code",
   "execution_count": 33,
   "metadata": {},
   "outputs": [
    {
     "data": {
      "text/plain": [
       "3"
      ]
     },
     "execution_count": 33,
     "metadata": {},
     "output_type": "execute_result"
    }
   ],
   "source": [
    "np_zero.ndim # tells the dimension"
   ]
  },
  {
   "cell_type": "code",
   "execution_count": 39,
   "metadata": {},
   "outputs": [
    {
     "name": "stdout",
     "output_type": "stream",
     "text": [
      "[[ 5 10]\n",
      " [15 20]]\n"
     ]
    }
   ],
   "source": [
    "np_2d_array = np.array([[5,10],[15,20]])\n",
    "print(np_2d_array)"
   ]
  },
  {
   "cell_type": "markdown",
   "metadata": {},
   "source": [
    "<img style =\"width:65%;\" src = \"Images/creation_of_multidim_numpy.PNG\"></img>"
   ]
  },
  {
   "cell_type": "code",
   "execution_count": 30,
   "metadata": {},
   "outputs": [
    {
     "data": {
      "text/plain": [
       "array([ 0,  3,  6,  9, 12, 15, 18, 21, 24, 27, 30, 33, 36, 39, 42, 45, 48,\n",
       "       51, 54, 57])"
      ]
     },
     "execution_count": 30,
     "metadata": {},
     "output_type": "execute_result"
    }
   ],
   "source": [
    "np_ar_array = np.arange(0,59,3) #creates numpy 1-d array of numbers between 0 to 59 on increments of 3\n",
    "np_ar_array"
   ]
  },
  {
   "cell_type": "code",
   "execution_count": 32,
   "metadata": {},
   "outputs": [
    {
     "name": "stdout",
     "output_type": "stream",
     "text": [
      "Gives the shape of array:(20,)\n"
     ]
    }
   ],
   "source": [
    "print(\"Gives the shape of array:{}\".format(np_ar_array.shape))\n",
    "# so in this particular example it gives us (20,), i.e is nothing but number of items in the first row or you could say in 1-D array"
   ]
  },
  {
   "cell_type": "markdown",
   "metadata": {},
   "source": [
    "<h4>In this particular example it gives us (20,), i.e is nothing but number of items in the first row or you could say in 1-D array</h4>"
   ]
  },
  {
   "cell_type": "code",
   "execution_count": 40,
   "metadata": {},
   "outputs": [
    {
     "data": {
      "text/plain": [
       "array([ -2,  -4,  -6,  -8, -10, -12, -14, -16, -18, -20, -22, -24])"
      ]
     },
     "execution_count": 40,
     "metadata": {},
     "output_type": "execute_result"
    }
   ],
   "source": [
    "number = np.arange(-2,-26,-2)\n",
    "number\n",
    "#creates numpy array of numbers from 0 to 30 in increments of 5 os shape 2*3"
   ]
  },
  {
   "cell_type": "markdown",
   "metadata": {},
   "source": [
    "<p> Same syntax as above but in this one range is between -2,-26 and step value is -2, intresting point <strong> keep step value as 2 instead of -2 </strong>"
   ]
  },
  {
   "cell_type": "markdown",
   "metadata": {},
   "source": [
    "<h5> Visuals of Re-shaping the Numpy array in different size </h5>\n",
    "<img style =\"width:65%;\" src = \"Images/reshape_of_numpy.PNG\"></img>"
   ]
  },
  {
   "cell_type": "markdown",
   "metadata": {},
   "source": [
    "Numpy allow us to change the dimensions of array which is very powerful when we will deal with matrix or huge data. We will come to reshaping topic again while understanding the broadcasting the array.\n",
    "\n",
    "<strong>Note:</strong> while reshaping keep in mind that number of element should suffice exactly.\n",
    "<p>eg. If numbr of elements is 12 in array after reshaping number of element should be 12 </p>\n",
    "In the below example we will be utilizing same array which we created avobe and try to reshape it"
   ]
  },
  {
   "cell_type": "code",
   "execution_count": 44,
   "metadata": {},
   "outputs": [
    {
     "name": "stdout",
     "output_type": "stream",
     "text": [
      "[[ -2  -4  -6]\n",
      " [ -8 -10 -12]\n",
      " [-14 -16 -18]\n",
      " [-20 -22 -24]]\n"
     ]
    }
   ],
   "source": [
    "np_reshape = number.reshape(4,3)\n",
    "print(np_reshape)"
   ]
  },
  {
   "cell_type": "markdown",
   "metadata": {},
   "source": [
    "One tricy point here, try to reshape with different dimesnion like (4,5). Try it and observe it."
   ]
  },
  {
   "cell_type": "code",
   "execution_count": 49,
   "metadata": {},
   "outputs": [
    {
     "data": {
      "text/plain": [
       "array([[0.87511922, 0.35750029],\n",
       "       [0.37803435, 0.02769971],\n",
       "       [0.71216384, 0.5975372 ]])"
      ]
     },
     "execution_count": 49,
     "metadata": {},
     "output_type": "execute_result"
    }
   ],
   "source": [
    "np_x =np.empty((3,2)) # give empty array with random numbers of array size 3*2\n",
    "np_x"
   ]
  },
  {
   "cell_type": "code",
   "execution_count": 51,
   "metadata": {},
   "outputs": [
    {
     "data": {
      "text/plain": [
       "array([[1, 1, 1, 1, 1],\n",
       "       [1, 1, 1, 1, 1],\n",
       "       [1, 1, 1, 1, 1],\n",
       "       [1, 1, 1, 1, 1]])"
      ]
     },
     "execution_count": 51,
     "metadata": {},
     "output_type": "execute_result"
    }
   ],
   "source": [
    "np_y = np.full([4,5],1)\n",
    "np_y# gives full matrix with 1 of size 4*5"
   ]
  },
  {
   "cell_type": "markdown",
   "metadata": {},
   "source": [
    "# Below are more ways of creating an array"
   ]
  },
  {
   "cell_type": "code",
   "execution_count": 53,
   "metadata": {},
   "outputs": [
    {
     "data": {
      "text/plain": [
       "array([[ 1.,  2.],\n",
       "       [ 3.,  4.],\n",
       "       [ 5.,  6.],\n",
       "       [ 7.,  8.],\n",
       "       [ 9., 10.]])"
      ]
     },
     "execution_count": 53,
     "metadata": {},
     "output_type": "execute_result"
    }
   ],
   "source": [
    "np.linspace(1, 10, 10).reshape(5,2) \n",
    "# gives an array of 9 size of number from 0 to 2. retstep is optional, it tells you what is step size"
   ]
  },
  {
   "cell_type": "markdown",
   "metadata": {},
   "source": [
    "<h5>Flaten Array</h5>"
   ]
  },
  {
   "cell_type": "code",
   "execution_count": 54,
   "metadata": {},
   "outputs": [
    {
     "name": "stdout",
     "output_type": "stream",
     "text": [
      "[[1 2 3]\n",
      " [4 5 6]]\n",
      "This array is flat or 1-d array :[1 2 3 4 5 6]\n"
     ]
    }
   ],
   "source": [
    "# Flatten array \n",
    "arr = np.array([[1, 2, 3], [4, 5, 6]]) \n",
    "print(arr)\n",
    "flarr = arr.flatten()\n",
    "print(\"This array is flat or 1-d array :{}\".format(flarr))"
   ]
  },
  {
   "cell_type": "markdown",
   "metadata": {},
   "source": [
    "<h5> Identity Matrix </h5>"
   ]
  },
  {
   "cell_type": "code",
   "execution_count": 5,
   "metadata": {},
   "outputs": [
    {
     "data": {
      "text/plain": [
       "array([[1., 0., 0., 0.],\n",
       "       [0., 1., 0., 0.],\n",
       "       [0., 0., 1., 0.],\n",
       "       [0., 0., 0., 1.]])"
      ]
     },
     "execution_count": 5,
     "metadata": {},
     "output_type": "execute_result"
    }
   ],
   "source": [
    "identity_matrix = np.eye(4) # creates the identity matrix\n",
    "identity_matrix"
   ]
  },
  {
   "cell_type": "markdown",
   "metadata": {},
   "source": [
    "We will cover more topics of matrix in other notebooks like Airthmetic on Nuumpy"
   ]
  },
  {
   "cell_type": "code",
   "execution_count": 58,
   "metadata": {},
   "outputs": [
    {
     "data": {
      "text/plain": [
       "array([[1.5, 2. , 3. , 1.8],\n",
       "       [4. , 5. , 6. , 4. ],\n",
       "       [1. , 2. , 4. , 5. ]])"
      ]
     },
     "execution_count": 58,
     "metadata": {},
     "output_type": "execute_result"
    }
   ],
   "source": [
    "np_arr2 = np.array([(1.5,2,3,1.8), (4,5,6,4),(1,2,4,5)], dtype=float) # check with dtype=int and se the difference\n",
    "np_arr2"
   ]
  },
  {
   "cell_type": "code",
   "execution_count": 59,
   "metadata": {},
   "outputs": [
    {
     "data": {
      "text/plain": [
       "array([ 2.        ,  2.88888889,  3.77777778,  4.66666667,  5.55555556,\n",
       "        6.44444444,  7.33333333,  8.22222222,  9.11111111, 10.        ])"
      ]
     },
     "execution_count": 59,
     "metadata": {},
     "output_type": "execute_result"
    }
   ],
   "source": [
    "g = np.linspace(2,10,10) #params are start.stop,how many( np.linspace(start,stop,how many number))\n",
    "g"
   ]
  },
  {
   "cell_type": "code",
   "execution_count": null,
   "metadata": {},
   "outputs": [],
   "source": []
  },
  {
   "cell_type": "code",
   "execution_count": null,
   "metadata": {},
   "outputs": [],
   "source": []
  }
 ],
 "metadata": {
  "kernelspec": {
   "display_name": "Python 3",
   "language": "python",
   "name": "python3"
  },
  "language_info": {
   "codemirror_mode": {
    "name": "ipython",
    "version": 3
   },
   "file_extension": ".py",
   "mimetype": "text/x-python",
   "name": "python",
   "nbconvert_exporter": "python",
   "pygments_lexer": "ipython3",
   "version": "3.7.0"
  }
 },
 "nbformat": 4,
 "nbformat_minor": 2
}
